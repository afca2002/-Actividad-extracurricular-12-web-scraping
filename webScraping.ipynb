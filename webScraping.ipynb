{
 "cells": [
  {
   "cell_type": "markdown",
   "metadata": {},
   "source": [
    "# [Actividad extracurricular 12] web scraping\n",
    "* Revisar qué es web scraping\n",
    "* Realizar una prueba en python para dos librerías diferentes\n",
    "* Realizar scraping de un sitio web de su elección\n",
    "* Subir pdf del notebook e informe. "
   ]
  },
  {
   "cell_type": "markdown",
   "metadata": {},
   "source": [
    "link de la pagina web: https://www.guiahardware.es/top-10-supercomputadores/"
   ]
  },
  {
   "cell_type": "code",
   "execution_count": 1,
   "metadata": {},
   "outputs": [
    {
     "name": "stdout",
     "output_type": "stream",
     "text": [
      "Supercomputador 1: ¿Qué es HPC?\n",
      "Descripción: Actualizado a: 19 de enero de 2024\n",
      "--------------------------------------------------\n",
      "Supercomputador 2: ¿Qué son los superocomputadores?\n",
      "Descripción: Los supercomputadores son unos grandes desconocidos, a pesar de que muchos de nosotros hacemos uso de ellos a diario sin saberlo, como cuando usamos ciertos servicios de la nube. Estos equipos están repartidos por los países desarrollados y existe una lista que reúne a los más potentes del mundo denominada Top500. En este artículo te acercamos a estas grandes máquinas y te mostramos el Top 10 actual de estas grandes máquinas.\n",
      "--------------------------------------------------\n",
      "Supercomputador 3: ¿Para qué se usan los supercomputadores?\n",
      "Descripción: Contenido\n",
      "--------------------------------------------------\n",
      "Supercomputador 4: Top 10 supercomputadores más potentes de la actualidad\n",
      "Descripción: La informática de alto rendimiento (HPC) es la capacidad de procesar datos y realizar cálculos complejos a gran velocidad. La High Performance Computing (HPC) logra estos objetivos mediante la agregación de potencia de procesamiento, de manera que incluso las aplicaciones complejas sean eficientes, fiables y rápidas, de acuerdo con las necesidades y expectativas de los usuarios.\n",
      "--------------------------------------------------\n",
      "Supercomputador 5: Futuro: Computación cuántica\n",
      "Descripción: Gracias a reunir diversas tecnologías, como la arquitectura de computación, los algoritmos, el software de sistemas, los programas y la electrónica, bajo un mismo paraguas, la HPC es capaz de resolver problemas complejos con rapidez y eficacia funcionando como un solo sistema. Su verdadera potencia proviene de la conexión de varios nodos HPC en un clúster.\n",
      "--------------------------------------------------\n"
     ]
    }
   ],
   "source": [
    "import requests\n",
    "from bs4 import BeautifulSoup\n",
    "\n",
    "url = \"https://www.guiahardware.es/top-10-supercomputadores/\"\n",
    "response = requests.get(url)\n",
    "response.raise_for_status()\n",
    "\n",
    "soup = BeautifulSoup(response.text, 'html.parser')\n",
    "\n",
    "titles = soup.find_all('h2')\n",
    "descriptions = soup.find_all('p')\n",
    "\n",
    "for i, title in enumerate(titles[:10]):\n",
    "    print(f\"Supercomputador {i + 1}: {title.text.strip()}\")\n",
    "    if i < len(descriptions):\n",
    "        print(f\"Descripción: {descriptions[i].text.strip()}\")\n",
    "    print(\"-\" * 50)\n"
   ]
  },
  {
   "cell_type": "code",
   "execution_count": 2,
   "metadata": {},
   "outputs": [
    {
     "name": "stdout",
     "output_type": "stream",
     "text": [
      "Supercomputador 1: ¿Qué es HPC?\n",
      "Descripción: Actualizado a: 19 de enero de 2024\n",
      "--------------------------------------------------\n",
      "Supercomputador 2: ¿Qué son los superocomputadores?\n",
      "Descripción: Los supercomputadores son unos grandes desconocidos, a pesar de que muchos de nosotros hacemos uso de ellos a diario sin saberlo, como cuando usamos ciertos servicios de la nube. Estos equipos están repartidos por los países desarrollados y existe una lista que reúne a los más potentes del mundo denominada Top500. En este artículo te acercamos a estas grandes máquinas y te mostramos el Top 10 actual de estas grandes máquinas.\n",
      "--------------------------------------------------\n",
      "Supercomputador 3: ¿Para qué se usan los supercomputadores?\n",
      "Descripción: Contenido\n",
      "--------------------------------------------------\n",
      "Supercomputador 4: Top 10 supercomputadores más potentes de la actualidad\n",
      "Descripción: La informática de alto rendimiento (HPC) es la capacidad de procesar datos y realizar cálculos complejos a gran velocidad. La High Performance Computing (HPC) logra estos objetivos mediante la agregación de potencia de procesamiento, de manera que incluso las aplicaciones complejas sean eficientes, fiables y rápidas, de acuerdo con las necesidades y expectativas de los usuarios.\n",
      "--------------------------------------------------\n",
      "Supercomputador 5: Futuro: Computación cuántica\n",
      "Descripción: Gracias a reunir diversas tecnologías, como la arquitectura de computación, los algoritmos, el software de sistemas, los programas y la electrónica, bajo un mismo paraguas, la HPC es capaz de resolver problemas complejos con rapidez y eficacia funcionando como un solo sistema. Su verdadera potencia proviene de la conexión de varios nodos HPC en un clúster.\n",
      "--------------------------------------------------\n"
     ]
    }
   ],
   "source": [
    "from selenium import webdriver\n",
    "from selenium.webdriver.common.by import By\n",
    "from selenium.webdriver.chrome.service import Service\n",
    "from webdriver_manager.chrome import ChromeDriverManager\n",
    "\n",
    "service = Service(ChromeDriverManager().install())\n",
    "driver = webdriver.Chrome(service=service)\n",
    "\n",
    "driver.get(\"https://www.guiahardware.es/top-10-supercomputadores/\")\n",
    "\n",
    "titles = driver.find_elements(By.TAG_NAME, \"h2\")\n",
    "descriptions = driver.find_elements(By.TAG_NAME, \"p\")\n",
    "\n",
    "for i, title in enumerate(titles[:10]):\n",
    "    print(f\"Supercomputador {i + 1}: {title.text.strip()}\")\n",
    "    if i < len(descriptions):\n",
    "        print(f\"Descripción: {descriptions[i].text.strip()}\")\n",
    "    print(\"-\" * 50)\n",
    "\n",
    "driver.quit()\n"
   ]
  }
 ],
 "metadata": {
  "kernelspec": {
   "display_name": "Python 3",
   "language": "python",
   "name": "python3"
  },
  "language_info": {
   "codemirror_mode": {
    "name": "ipython",
    "version": 3
   },
   "file_extension": ".py",
   "mimetype": "text/x-python",
   "name": "python",
   "nbconvert_exporter": "python",
   "pygments_lexer": "ipython3",
   "version": "3.13.0"
  }
 },
 "nbformat": 4,
 "nbformat_minor": 2
}
